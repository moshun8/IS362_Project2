{
 "cells": [
  {
   "cell_type": "markdown",
   "metadata": {},
   "source": [
    "# Diaper Data"
   ]
  },
  {
   "cell_type": "code",
   "execution_count": 412,
   "metadata": {
    "collapsed": false
   },
   "outputs": [],
   "source": [
    "import pandas as pd\n",
    "\n",
    "diapers = pd.read_csv('https://raw.githubusercontent.com/moshun8/IS362_Project2/master/Project2_diapers.csv', sep='\\t')\n",
    "#diapers = pd.read_csv('/Users/Maureen/Desktop/GitHub/IS362_Project2/Project2_diapers.csv', sep='\\t')"
   ]
  },
  {
   "cell_type": "markdown",
   "metadata": {},
   "source": [
    "1. Rename the columns\n",
    "2. Drop any empty columns\n",
    "3. Sort by status"
   ]
  },
  {
   "cell_type": "code",
   "execution_count": 413,
   "metadata": {
    "collapsed": false
   },
   "outputs": [
    {
     "data": {
      "text/html": [
       "<div>\n",
       "<table border=\"1\" class=\"dataframe\">\n",
       "  <thead>\n",
       "    <tr style=\"text-align: right;\">\n",
       "      <th></th>\n",
       "      <th>status</th>\n",
       "      <th>leak</th>\n",
       "      <th>date</th>\n",
       "      <th>age</th>\n",
       "    </tr>\n",
       "  </thead>\n",
       "  <tbody>\n",
       "    <tr>\n",
       "      <th>9</th>\n",
       "      <td>BM</td>\n",
       "      <td>No</td>\n",
       "      <td>11/27 20:00</td>\n",
       "      <td>2 months 18 days old</td>\n",
       "    </tr>\n",
       "    <tr>\n",
       "      <th>49</th>\n",
       "      <td>BM</td>\n",
       "      <td>No</td>\n",
       "      <td>11/18 20:40</td>\n",
       "      <td>2 months 9 days old</td>\n",
       "    </tr>\n",
       "    <tr>\n",
       "      <th>80</th>\n",
       "      <td>BM</td>\n",
       "      <td>No</td>\n",
       "      <td>11/11 20:00</td>\n",
       "      <td>2 months 2 days old</td>\n",
       "    </tr>\n",
       "    <tr>\n",
       "      <th>82</th>\n",
       "      <td>BM</td>\n",
       "      <td>No</td>\n",
       "      <td>11/11 12:30</td>\n",
       "      <td>2 months 2 days old</td>\n",
       "    </tr>\n",
       "    <tr>\n",
       "      <th>97</th>\n",
       "      <td>BM</td>\n",
       "      <td>No</td>\n",
       "      <td>11/07 20:00</td>\n",
       "      <td>1 month 29 days old</td>\n",
       "    </tr>\n",
       "  </tbody>\n",
       "</table>\n",
       "</div>"
      ],
      "text/plain": [
       "   status leak          date                   age\n",
       "9      BM   No   11/27 20:00  2 months 18 days old\n",
       "49     BM   No   11/18 20:40   2 months 9 days old\n",
       "80     BM   No   11/11 20:00   2 months 2 days old\n",
       "82     BM   No   11/11 12:30   2 months 2 days old\n",
       "97     BM   No   11/07 20:00   1 month 29 days old"
      ]
     },
     "execution_count": 413,
     "metadata": {},
     "output_type": "execute_result"
    }
   ],
   "source": [
    "column_names = {'Status': 'status', \n",
    "                'Diaper Leaked': 'leak',\n",
    "                'Date Time': 'date', \n",
    "                'Age': 'age',\n",
    "                'Note': 'note'}\n",
    "\n",
    "diapers = diapers.dropna(how='all', axis=1).rename(columns=column_names).sort_values(['status','leak'])\n",
    "diapers.head()"
   ]
  },
  {
   "cell_type": "markdown",
   "metadata": {},
   "source": [
    "### Check data types"
   ]
  },
  {
   "cell_type": "code",
   "execution_count": 414,
   "metadata": {
    "collapsed": false
   },
   "outputs": [
    {
     "data": {
      "text/plain": [
       "status    object\n",
       "leak      object\n",
       "date      object\n",
       "age       object\n",
       "dtype: object"
      ]
     },
     "execution_count": 414,
     "metadata": {},
     "output_type": "execute_result"
    }
   ],
   "source": [
    "diapers.dtypes"
   ]
  },
  {
   "cell_type": "markdown",
   "metadata": {},
   "source": [
    "### Change the date column to datetime and leak from y/n to boolean"
   ]
  },
  {
   "cell_type": "code",
   "execution_count": 415,
   "metadata": {
    "collapsed": false
   },
   "outputs": [],
   "source": [
    "diapers['date'] = pd.to_datetime(diapers['date'], format=' %m/%d %H:%M')\n",
    "\n",
    "leaked = {'Yes': True, \n",
    "          'No': False}\n",
    "\n",
    "diapers['leak'] = diapers['leak'].map(leaked)"
   ]
  },
  {
   "cell_type": "markdown",
   "metadata": {},
   "source": [
    "### Check to make sure the changes were made"
   ]
  },
  {
   "cell_type": "code",
   "execution_count": 416,
   "metadata": {
    "collapsed": false
   },
   "outputs": [
    {
     "data": {
      "text/plain": [
       "status            object\n",
       "leak                bool\n",
       "date      datetime64[ns]\n",
       "age               object\n",
       "dtype: object"
      ]
     },
     "execution_count": 416,
     "metadata": {},
     "output_type": "execute_result"
    }
   ],
   "source": [
    "diapers.dtypes"
   ]
  },
  {
   "cell_type": "markdown",
   "metadata": {},
   "source": [
    "### See how many Leaks for each status"
   ]
  },
  {
   "cell_type": "code",
   "execution_count": 419,
   "metadata": {
    "collapsed": false
   },
   "outputs": [
    {
     "data": {
      "text/plain": [
       "status  leak \n",
       "BM      False     24\n",
       "        True       2\n",
       "BM+Wet  False     85\n",
       "        True      14\n",
       "Dry     False      1\n",
       "Wet     False    127\n",
       "Name: date, dtype: int64"
      ]
     },
     "execution_count": 419,
     "metadata": {},
     "output_type": "execute_result"
    }
   ],
   "source": [
    "df = diapers.copy()\n",
    "df = (df\n",
    "      .set_index(['status','leak'])\n",
    "      .groupby(level=['status','leak'])\n",
    "      .count())\n",
    "\n",
    "df['date']"
   ]
  }
 ],
 "metadata": {
  "kernelspec": {
   "display_name": "Python 3",
   "language": "python",
   "name": "python3"
  },
  "language_info": {
   "codemirror_mode": {
    "name": "ipython",
    "version": 3
   },
   "file_extension": ".py",
   "mimetype": "text/x-python",
   "name": "python",
   "nbconvert_exporter": "python",
   "pygments_lexer": "ipython3",
   "version": "3.5.2"
  }
 },
 "nbformat": 4,
 "nbformat_minor": 1
}
